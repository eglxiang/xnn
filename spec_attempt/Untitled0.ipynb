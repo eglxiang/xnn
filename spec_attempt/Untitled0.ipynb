{
 "metadata": {
  "name": "",
  "signature": "sha256:51e45a7ff64668fd7b8b6066112b05f70b0e6847306492851196395b18107c3a"
 },
 "nbformat": 3,
 "nbformat_minor": 0,
 "worksheets": [
  {
   "cells": [
    {
     "cell_type": "markdown",
     "metadata": {},
     "source": [
      "    o   o o   o o   o \n",
      "     \\ /  |\\  | |\\  | \n",
      "      O   | \\ | | \\ | \n",
      "     / \\  |  \\| |  \\| \n",
      "    o   o o   o o   o "
     ]
    },
    {
     "cell_type": "heading",
     "level": 3,
     "metadata": {},
     "source": [
      "    xnn neural network library V 0.1"
     ]
    },
    {
     "cell_type": "markdown",
     "metadata": {},
     "source": [
      "    explore!\n",
      "        experiment!\n",
      "            express!"
     ]
    },
    {
     "cell_type": "heading",
     "level": 3,
     "metadata": {},
     "source": [
      "Specifying, instantiating, and viewing models"
     ]
    },
    {
     "cell_type": "markdown",
     "metadata": {},
     "source": [
      "The following shows how to spec models in XNN using an object-oriented syntax. Models are built, instantiated, and serialized in  code below. As a bonus, we visualize each net using pydot!"
     ]
    },
    {
     "cell_type": "code",
     "collapsed": false,
     "input": [],
     "language": "python",
     "metadata": {},
     "outputs": []
    }
   ],
   "metadata": {}
  }
 ]
}